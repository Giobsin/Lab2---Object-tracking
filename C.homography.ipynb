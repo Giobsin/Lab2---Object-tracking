{
 "cells": [
  {
   "cell_type": "markdown",
   "metadata": {},
   "source": [
    "# CM2000 Lab 2.C. Homography"
   ]
  },
  {
   "cell_type": "markdown",
   "metadata": {},
   "source": [
    "This code was adapted from OpenCV tutorials.\n",
    "\n",
    "<a target=\"_blank\" href=\"https://learnopencv.com\">View on learnopencv.com</a>"
   ]
  },
  {
   "cell_type": "markdown",
   "metadata": {},
   "source": [
    "## Imports"
   ]
  },
  {
   "cell_type": "code",
   "execution_count": 65,
   "metadata": {},
   "outputs": [],
   "source": [
    "import cv2\n",
    "import os\n",
    "import sys\n",
    "import numpy as np\n",
    "from functools import partial\n",
    "import matplotlib.pyplot as plt\n",
    "from tools import *"
   ]
  },
  {
   "cell_type": "markdown",
   "metadata": {},
   "source": [
    "## Task 1: Homography of an image\n"
   ]
  },
  {
   "cell_type": "markdown",
   "metadata": {},
   "source": [
    "### 1.1. Code assignment"
   ]
  },
  {
   "cell_type": "markdown",
   "metadata": {},
   "source": [
    "Run homography for a frame of a hockey and amrican football play. Save your results as './homography/homography_hockey.jpg' and './homography/homography_football.jpg'.  \n",
    "Then, choose another sport where you think the same technique could work, find a picture of the field and a frame of a play, and perform the homography. Save your results as './homography/homography_sport.jpg'."
   ]
  },
  {
   "cell_type": "code",
   "execution_count": 66,
   "metadata": {},
   "outputs": [],
   "source": [
    "# Globals\n",
    "\n",
    "drawing = False  # true if mouse is pressed\n",
    "src_x, src_y = -1, -1\n",
    "dst_x, dst_y = -1, -1\n",
    "\n",
    "src_list = []\n",
    "dst_list = []\n",
    "\n",
    "# Define the frame and field file paths for the homography\n",
    "frame_path = './homography/frame_football.jpg'\n",
    "field_path = './homography/field_football.jpg'\n",
    "homography_path = './homography/homography_football.jpg'\n"
   ]
  },
  {
   "cell_type": "code",
   "execution_count": 67,
   "metadata": {},
   "outputs": [],
   "source": [
    "# Mouse callback functions\n",
    "def select_points_src(event, x, y, flags, param):\n",
    "    '''mouse callback function'''\n",
    "    global src_x, src_y, drawing\n",
    "    if event == cv2.EVENT_LBUTTONDOWN:\n",
    "        drawing = True\n",
    "        src_x, src_y = x, y\n",
    "        cv2.circle(src_copy, (x, y), 5, (0, 0, 255), -1)\n",
    "    elif event == cv2.EVENT_LBUTTONUP:\n",
    "        drawing = False\n",
    "\n",
    "def select_points_dst(event, x, y, flags, param):\n",
    "    '''mouse callback function'''\n",
    "    global dst_x, dst_y, drawing\n",
    "    if event == cv2.EVENT_LBUTTONDOWN:\n",
    "        drawing = True\n",
    "        dst_x, dst_y = x, y\n",
    "        cv2.circle(dst_copy, (x, y), 5, (0, 0, 255), -1)\n",
    "    elif event == cv2.EVENT_LBUTTONUP:\n",
    "        drawing = False"
   ]
  },
  {
   "cell_type": "code",
   "execution_count": 68,
   "metadata": {},
   "outputs": [],
   "source": [
    "# Merging functions\n",
    "def get_plan_view(src, dst, src_list, dst_list):\n",
    "    src_pts = np.array(src_list).reshape(-1, 1, 2)\n",
    "    dst_pts = np.array(dst_list).reshape(-1, 1, 2)\n",
    "    H, mask = cv2.findHomography(src_pts, dst_pts, cv2.RANSAC, 5.0)\n",
    "    print(\"H:\")\n",
    "    print(H)\n",
    "    plan_view = cv2.warpPerspective(src, H, (dst.shape[1], dst.shape[0]))\n",
    "    return plan_view\n",
    "\n",
    "\n",
    "def merge_views(src, dst, src_list, dst_list):\n",
    "    plan_view = get_plan_view(src, dst, src_list, dst_list)\n",
    "    for i in range(0, dst.shape[0]):\n",
    "        for j in range(0, dst.shape[1]):\n",
    "            if (plan_view.item(i, j, 0) == 0 and\n",
    "               plan_view.item(i, j, 1) == 0 and\n",
    "               plan_view.item(i, j, 2) == 0):\n",
    "                plan_view.itemset((i, j, 0), dst.item(i, j, 0))\n",
    "                plan_view.itemset((i, j, 1), dst.item(i, j, 1))\n",
    "                plan_view.itemset((i, j, 2), dst.item(i, j, 2))\n",
    "    return plan_view"
   ]
  },
  {
   "cell_type": "markdown",
   "metadata": {},
   "source": [
    "When you run the code below, you will be prompted with 2 windows: the field and the frame.  \n",
    "Mark a point in the video, then mark the same point in the field, and press key 's' to save the point to the homography. The code \"remembers\" only the last point pressed at each window when performing the save operation.  \n",
    "Repeat for at least 4 points, then press key 'm' to perform the homography.  \n",
    "Then, press key 'q' to quit and release resources. Wait a few seconds before running the next cell.  "
   ]
  },
  {
   "cell_type": "code",
   "execution_count": 69,
   "metadata": {},
   "outputs": [
    {
     "name": "stdout",
     "output_type": "stream",
     "text": [
      "Mark a point in the video, then mark the same point in the field, and press key s\n",
      "Repeat for at least 4 points.\n",
      "...saving points\n",
      "src points:\n",
      "[[1409, 693]]\n",
      "dst points:\n",
      "[[1186, 746]]\n",
      "...saving points\n",
      "src points:\n",
      "[[1409, 693], [313, 729]]\n",
      "dst points:\n",
      "[[1186, 746], [959, 750]]\n",
      "...saving points\n",
      "src points:\n",
      "[[1409, 693], [313, 729], [324, 248]]\n",
      "dst points:\n",
      "[[1186, 746], [959, 750], [963, 174]]\n",
      "...saving points\n",
      "src points:\n",
      "[[1409, 693], [313, 729], [324, 248], [1159, 237]]\n",
      "dst points:\n",
      "[[1186, 746], [959, 750], [963, 174], [1188, 180]]\n",
      "Press m to merge.\n",
      "...saving points\n",
      "src points:\n",
      "[[1409, 693], [313, 729], [324, 248], [1159, 237], [1604, 225]]\n",
      "dst points:\n",
      "[[1186, 746], [959, 750], [963, 174], [1188, 180], [1267, 178]]\n",
      "Press m to merge.\n",
      "...saving points\n",
      "src points:\n",
      "[[1409, 693], [313, 729], [324, 248], [1159, 237], [1604, 225], [1164, 707]]\n",
      "dst points:\n",
      "[[1186, 746], [959, 750], [963, 174], [1188, 180], [1267, 178], [1112, 751]]\n",
      "Press m to merge.\n",
      "...saving points\n",
      "src points:\n",
      "[[1409, 693], [313, 729], [324, 248], [1159, 237], [1604, 225], [1164, 707], [967, 237]]\n",
      "dst points:\n",
      "[[1186, 746], [959, 750], [963, 174], [1188, 180], [1267, 178], [1112, 751], [1113, 170]]\n",
      "Press m to merge.\n",
      "...saving points\n",
      "src points:\n",
      "[[1409, 693], [313, 729], [324, 248], [1159, 237], [1604, 225], [1164, 707], [967, 237], [701, 502]]\n",
      "dst points:\n",
      "[[1186, 746], [959, 750], [963, 174], [1188, 180], [1267, 178], [1112, 751], [1113, 170], [1039, 580]]\n",
      "Press m to merge.\n",
      "...saving points\n",
      "src points:\n",
      "[[1409, 693], [313, 729], [324, 248], [1159, 237], [1604, 225], [1164, 707], [967, 237], [701, 502], [681, 391]]\n",
      "dst points:\n",
      "[[1186, 746], [959, 750], [963, 174], [1188, 180], [1267, 178], [1112, 751], [1113, 170], [1039, 580], [1036, 343]]\n",
      "Press m to merge.\n",
      "...saving points\n",
      "src points:\n",
      "[[1409, 693], [313, 729], [324, 248], [1159, 237], [1604, 225], [1164, 707], [967, 237], [701, 502], [681, 391], [1239, 379]]\n",
      "dst points:\n",
      "[[1186, 746], [959, 750], [963, 174], [1188, 180], [1267, 178], [1112, 751], [1113, 170], [1039, 580], [1036, 343], [1190, 344]]\n",
      "Press m to merge.\n",
      "...saving points\n",
      "src points:\n",
      "[[1409, 693], [313, 729], [324, 248], [1159, 237], [1604, 225], [1164, 707], [967, 237], [701, 502], [681, 391], [1239, 379], [1299, 491]]\n",
      "dst points:\n",
      "[[1186, 746], [959, 750], [963, 174], [1188, 180], [1267, 178], [1112, 751], [1113, 170], [1039, 580], [1036, 343], [1190, 344], [1193, 579]]\n",
      "Press m to merge.\n",
      "...merging views\n",
      "H:\n",
      "[[ 1.93135261e-01 -2.58288726e-01  9.27414657e+02]\n",
      " [ 4.79341871e-03  1.05560374e+00 -9.70556345e+01]\n",
      " [-5.40107838e-05 -9.22626467e-05  1.00000000e+00]]\n",
      "Press q to quite and release resources.\n",
      "...merging views\n",
      "H:\n",
      "[[ 1.93135261e-01 -2.58288726e-01  9.27414657e+02]\n",
      " [ 4.79341871e-03  1.05560374e+00 -9.70556345e+01]\n",
      " [-5.40107838e-05 -9.22626467e-05  1.00000000e+00]]\n",
      "Press q to quite and release resources.\n",
      "...merging views\n",
      "H:\n",
      "[[ 1.93135261e-01 -2.58288726e-01  9.27414657e+02]\n",
      " [ 4.79341871e-03  1.05560374e+00 -9.70556345e+01]\n",
      " [-5.40107838e-05 -9.22626467e-05  1.00000000e+00]]\n",
      "Press q to quite and release resources.\n",
      "...merging views\n",
      "H:\n",
      "[[ 1.93135261e-01 -2.58288726e-01  9.27414657e+02]\n",
      " [ 4.79341871e-03  1.05560374e+00 -9.70556345e+01]\n",
      " [-5.40107838e-05 -9.22626467e-05  1.00000000e+00]]\n",
      "Press q to quite and release resources.\n",
      "...merging views\n",
      "H:\n",
      "[[ 1.93135261e-01 -2.58288726e-01  9.27414657e+02]\n",
      " [ 4.79341871e-03  1.05560374e+00 -9.70556345e+01]\n",
      " [-5.40107838e-05 -9.22626467e-05  1.00000000e+00]]\n",
      "Press q to quite and release resources.\n",
      "...merging views\n",
      "H:\n",
      "[[ 1.93135261e-01 -2.58288726e-01  9.27414657e+02]\n",
      " [ 4.79341871e-03  1.05560374e+00 -9.70556345e+01]\n",
      " [-5.40107838e-05 -9.22626467e-05  1.00000000e+00]]\n",
      "Press q to quite and release resources.\n",
      "...merging views\n",
      "H:\n",
      "[[ 1.93135261e-01 -2.58288726e-01  9.27414657e+02]\n",
      " [ 4.79341871e-03  1.05560374e+00 -9.70556345e+01]\n",
      " [-5.40107838e-05 -9.22626467e-05  1.00000000e+00]]\n",
      "Press q to quite and release resources.\n"
     ]
    },
    {
     "data": {
      "text/plain": [
       "-1"
      ]
     },
     "execution_count": 69,
     "metadata": {},
     "output_type": "execute_result"
    }
   ],
   "source": [
    "# Homography for an image\n",
    "print(\"Mark a point in the video, then mark the same point in the field, and press key s\")\n",
    "print(\"Repeat for at least 4 points.\")\n",
    "\n",
    "src = cv2.imread(frame_path, -1)\n",
    "src_copy = src.copy()\n",
    "cv2.namedWindow('src')\n",
    "cv2.moveWindow(\"src\", 80, 80)\n",
    "cv2.setMouseCallback('src', select_points_src)\n",
    "\n",
    "dst = cv2.imread(field_path, -1)\n",
    "dst_copy = dst.copy()\n",
    "cv2.namedWindow('dst')\n",
    "cv2.moveWindow(\"dst\", 780, 80)\n",
    "cv2.setMouseCallback('dst', select_points_dst)\n",
    "\n",
    "while True:\n",
    "    cv2.imshow('src', src_copy)\n",
    "    cv2.imshow('dst', dst_copy)\n",
    "    k = cv2.waitKey(1) & 0xFF\n",
    "    if k == ord('s'):\n",
    "        print('...saving points')\n",
    "        cv2.circle(src_copy, (src_x, src_y), 5, (0, 255, 0), -1)\n",
    "        cv2.circle(dst_copy, (dst_x, dst_y), 5, (0, 255, 0), -1)\n",
    "        src_list.append([src_x, src_y])\n",
    "        dst_list.append([dst_x, dst_y])\n",
    "        print(\"src points:\")\n",
    "        print(src_list)\n",
    "        print(\"dst points:\")\n",
    "        print(dst_list)\n",
    "\n",
    "        if len(src_list) >= 4 and len(dst_list) >= 4:\n",
    "            print(\"Press m to merge.\")\n",
    "    elif k == ord('m'):\n",
    "        print('...merging views')\n",
    "        merge = merge_views(src, dst, src_list, dst_list)\n",
    "        cv2.imwrite(homography_path, merge)\n",
    "        cv2.imshow(\"merge\", merge)\n",
    "        print(\"Press q to quite and release resources.\")\n",
    "    elif k == 27 or k == ord('q'):\n",
    "        break\n",
    "\n",
    "cv2.waitKey(0)\n",
    "cv2.destroyAllWindows()\n",
    "cv2.waitKey(1)"
   ]
  },
  {
   "cell_type": "markdown",
   "metadata": {},
   "source": [
    "### 1.2. Written assignment"
   ]
  },
  {
   "cell_type": "markdown",
   "metadata": {},
   "source": [
    "Try using different points in the field to perform the homography. Identify the limitations and write a paragraph with your reflections."
   ]
  },
  {
   "cell_type": "markdown",
   "metadata": {},
   "source": [
    "The limitations involve challenges in accurately aligning points across different images, leading to variability. Additionally, transformations can result in pixels moving beyond boundaries, introducing undesired distortions."
   ]
  },
  {
   "cell_type": "markdown",
   "metadata": {},
   "source": [
    "## Task 2: Homography of a video\n"
   ]
  },
  {
   "cell_type": "markdown",
   "metadata": {},
   "source": [
    "### 2.1. Code assignment"
   ]
  },
  {
   "cell_type": "markdown",
   "metadata": {},
   "source": [
    "Run the code to use the homography matrix computed for the first frame of the video and perform the homography for the whole video. Do it for both hockey and football.  \n",
    "Save your results as './homography/homography_hockey_static.gif' and './homography/homography_football_static.gif'."
   ]
  },
  {
   "cell_type": "code",
   "execution_count": 70,
   "metadata": {},
   "outputs": [],
   "source": [
    "# Define the video path for the homography\n",
    "video_path = './homography/video_football.mp4'\n",
    "homography_name = './homography/homography_football.gif'\n"
   ]
  },
  {
   "cell_type": "markdown",
   "metadata": {},
   "source": [
    "When you run the code below, you will be prompted with a window showing the result of the homography in slow motion.   \n",
    "Wait for the animation to finish. Then, press key 'q' to quit and release resources. Wait a few seconds before running the next cell.  "
   ]
  },
  {
   "cell_type": "code",
   "execution_count": 71,
   "metadata": {},
   "outputs": [
    {
     "name": "stdout",
     "output_type": "stream",
     "text": [
      "...Merging views\n",
      "Wait for the animation of the tracking. Then press Enter to finish.\n",
      "H:\n",
      "[[ 1.93135261e-01 -2.58288726e-01  9.27414657e+02]\n",
      " [ 4.79341871e-03  1.05560374e+00 -9.70556345e+01]\n",
      " [-5.40107838e-05 -9.22626467e-05  1.00000000e+00]]\n",
      "H:\n",
      "[[ 1.93135261e-01 -2.58288726e-01  9.27414657e+02]\n",
      " [ 4.79341871e-03  1.05560374e+00 -9.70556345e+01]\n",
      " [-5.40107838e-05 -9.22626467e-05  1.00000000e+00]]\n",
      "H:\n",
      "[[ 1.93135261e-01 -2.58288726e-01  9.27414657e+02]\n",
      " [ 4.79341871e-03  1.05560374e+00 -9.70556345e+01]\n",
      " [-5.40107838e-05 -9.22626467e-05  1.00000000e+00]]\n",
      "H:\n",
      "[[ 1.93135261e-01 -2.58288726e-01  9.27414657e+02]\n",
      " [ 4.79341871e-03  1.05560374e+00 -9.70556345e+01]\n",
      " [-5.40107838e-05 -9.22626467e-05  1.00000000e+00]]\n",
      "H:\n",
      "[[ 1.93135261e-01 -2.58288726e-01  9.27414657e+02]\n",
      " [ 4.79341871e-03  1.05560374e+00 -9.70556345e+01]\n",
      " [-5.40107838e-05 -9.22626467e-05  1.00000000e+00]]\n",
      "H:\n",
      "[[ 1.93135261e-01 -2.58288726e-01  9.27414657e+02]\n",
      " [ 4.79341871e-03  1.05560374e+00 -9.70556345e+01]\n",
      " [-5.40107838e-05 -9.22626467e-05  1.00000000e+00]]\n",
      "H:\n",
      "[[ 1.93135261e-01 -2.58288726e-01  9.27414657e+02]\n",
      " [ 4.79341871e-03  1.05560374e+00 -9.70556345e+01]\n",
      " [-5.40107838e-05 -9.22626467e-05  1.00000000e+00]]\n",
      "H:\n",
      "[[ 1.93135261e-01 -2.58288726e-01  9.27414657e+02]\n",
      " [ 4.79341871e-03  1.05560374e+00 -9.70556345e+01]\n",
      " [-5.40107838e-05 -9.22626467e-05  1.00000000e+00]]\n",
      "H:\n",
      "[[ 1.93135261e-01 -2.58288726e-01  9.27414657e+02]\n",
      " [ 4.79341871e-03  1.05560374e+00 -9.70556345e+01]\n",
      " [-5.40107838e-05 -9.22626467e-05  1.00000000e+00]]\n",
      "H:\n",
      "[[ 1.93135261e-01 -2.58288726e-01  9.27414657e+02]\n",
      " [ 4.79341871e-03  1.05560374e+00 -9.70556345e+01]\n",
      " [-5.40107838e-05 -9.22626467e-05  1.00000000e+00]]\n",
      "H:\n",
      "[[ 1.93135261e-01 -2.58288726e-01  9.27414657e+02]\n",
      " [ 4.79341871e-03  1.05560374e+00 -9.70556345e+01]\n",
      " [-5.40107838e-05 -9.22626467e-05  1.00000000e+00]]\n",
      "H:\n",
      "[[ 1.93135261e-01 -2.58288726e-01  9.27414657e+02]\n",
      " [ 4.79341871e-03  1.05560374e+00 -9.70556345e+01]\n",
      " [-5.40107838e-05 -9.22626467e-05  1.00000000e+00]]\n",
      "H:\n",
      "[[ 1.93135261e-01 -2.58288726e-01  9.27414657e+02]\n",
      " [ 4.79341871e-03  1.05560374e+00 -9.70556345e+01]\n",
      " [-5.40107838e-05 -9.22626467e-05  1.00000000e+00]]\n"
     ]
    },
    {
     "data": {
      "text/plain": [
       "-1"
      ]
     },
     "execution_count": 71,
     "metadata": {},
     "output_type": "execute_result"
    }
   ],
   "source": [
    "print('...Merging views')\n",
    "# Store merged frames\n",
    "merged_frames = []\n",
    "# Read video\n",
    "video = cv2.VideoCapture(video_path)\n",
    "# Get frame count and rate\n",
    "frame_count = int(video.get(cv2.CAP_PROP_FRAME_COUNT))\n",
    "frame_rate = int(video.get(cv2.CAP_PROP_FPS))\n",
    "# Read field image\n",
    "dst = cv2.imread(field_path, -1)\n",
    "print(\"Wait for the animation of the tracking. Then press Enter to finish.\")\n",
    "\n",
    "i=0\n",
    "while True:\n",
    "    # Exit if video not opened.\n",
    "    if not video.isOpened():\n",
    "        print (\"Could not open video\")\n",
    "        sys.exit()\n",
    "\n",
    "    # Read video frame.\n",
    "    ok, src = video.read()\n",
    "    if not ok:\n",
    "        break\n",
    "\n",
    "    # Get the points for the homography\n",
    "    merge = merge_views(src, dst, src_list, dst_list) \n",
    "\n",
    "    #converting BGR to RGB \n",
    "    mergeRGB = cv2.cvtColor(merge, cv2.COLOR_BGR2RGB) \n",
    "    # Display homography   \n",
    "    cv2.imshow(\"merge\", merge)\n",
    "    # Store frames\n",
    "    merged_frames.append(merge)\n",
    "\n",
    "    # Exit if the 'q' key is pressed\n",
    "    if cv2.waitKey(500) & 0xFF == ord('q'):\n",
    "        break\n",
    "\n",
    "    i+=1\n",
    "\n",
    "# Release the video capture object and close windows\n",
    "video.release()\n",
    "cv2.waitKey(0)\n",
    "cv2.destroyAllWindows()\n",
    "cv2.waitKey(1)"
   ]
  },
  {
   "cell_type": "code",
   "execution_count": 72,
   "metadata": {},
   "outputs": [
    {
     "name": "stdout",
     "output_type": "stream",
     "text": [
      "./homography/homography_football.gif saved!\n"
     ]
    }
   ],
   "source": [
    "from tools import to_gif\n",
    "\n",
    "to_gif(merged_frames,int(1000/frame_rate), homography_name)"
   ]
  },
  {
   "cell_type": "markdown",
   "metadata": {},
   "source": [
    "### 2.2. Written assignment"
   ]
  },
  {
   "cell_type": "markdown",
   "metadata": {},
   "source": [
    "Analyse the correctness of the predictions and the confidence scores. Try to establish a threshold. Write down your reflections and conclusions."
   ]
  },
  {
   "cell_type": "markdown",
   "metadata": {},
   "source": [
    "*answer here*"
   ]
  },
  {
   "cell_type": "markdown",
   "metadata": {},
   "source": [
    "## Task 3: Homography of a video with moving camera\n"
   ]
  },
  {
   "cell_type": "markdown",
   "metadata": {},
   "source": [
    "### 3.1. Code assignment"
   ]
  },
  {
   "cell_type": "markdown",
   "metadata": {},
   "source": [
    "To account for the moving camera, we perform object tracking of the points used in the homography and recompute the matrix for every frame. Run the code that does point tracking and homography computation. Do it for both hockey and football.  \n",
    "Save your results as './homography/homography_hockey_dynamic.gif' and './homography/homography_football_dynamic.gif'."
   ]
  },
  {
   "cell_type": "code",
   "execution_count": 73,
   "metadata": {},
   "outputs": [],
   "source": [
    "# Globals\n",
    "\n",
    "drawing = False  # true if mouse is pressed\n",
    "src_x, src_y = -1, -1\n",
    "dst_x, dst_y = -1, -1\n",
    "\n",
    "src_list = []\n",
    "dst_list = []\n",
    "\n",
    "# Define the frame and field file paths for the homography\n",
    "video_path = './homography/video_football.mp4'\n",
    "field_path = './homography/field_football.jpg'\n",
    "homography_name = './homography/homography_football_dynamic.gif'"
   ]
  },
  {
   "cell_type": "markdown",
   "metadata": {},
   "source": [
    "The code below creates a OpenCV tracker (and it's the piece that will fail without opencv-contrib-python).  \n",
    "You can test the 3 different types and read more about them [here](https://learnopencv.com/object-tracking-using-opencv-cpp-python/). I found KCF to be the best in this application."
   ]
  },
  {
   "cell_type": "code",
   "execution_count": 74,
   "metadata": {},
   "outputs": [],
   "source": [
    "# Create the tracker\n",
    "# see https://github.com/spmallick/learnopencv/blob/master/tracking/tracker.py\n",
    "# and https://learnopencv.com/object-tracking-using-opencv-cpp-python/\n",
    "(major_ver, minor_ver, subminor_ver) = (cv2.__version__).split('.')\n",
    "tracker_types = ['MIL','KCF','CSRT']\n",
    "tracker_type = tracker_types[1]\n",
    "def create_tracker(tracker_type):\n",
    "    if int(minor_ver) < 3:\n",
    "        tracker = cv2.Tracker_create(tracker_type)\n",
    "    else:\n",
    "        if tracker_type == 'MIL':\n",
    "            tracker = cv2.TrackerMIL_create()\n",
    "        if tracker_type == 'KCF':\n",
    "            tracker = cv2.TrackerKCF_create()\n",
    "        if tracker_type == \"CSRT\":\n",
    "            tracker = cv2.TrackerCSRT_create()\n",
    "    return tracker"
   ]
  },
  {
   "cell_type": "code",
   "execution_count": 75,
   "metadata": {},
   "outputs": [],
   "source": [
    "# Mouse callback functions\n",
    "def select_points_dst(event, x, y, flags, param, dst_copy):\n",
    "    '''mouse callback function'''\n",
    "    global dst_x, dst_y, drawing\n",
    "    if event == cv2.EVENT_LBUTTONDOWN:\n",
    "        drawing = True\n",
    "        dst_x, dst_y = x, y\n",
    "        cv2.circle(dst_copy, (x, y), 5, (0, 0, 255), -1)\n",
    "    elif event == cv2.EVENT_LBUTTONUP:\n",
    "        drawing = False"
   ]
  },
  {
   "cell_type": "code",
   "execution_count": 76,
   "metadata": {},
   "outputs": [],
   "source": [
    "# Merging functions\n",
    "def get_plan_view(src, dst, src_list, dst_list):\n",
    "    src_pts = np.array(src_list).reshape(-1, 1, 2)\n",
    "    dst_pts = np.array(dst_list).reshape(-1, 1, 2)\n",
    "    H, mask = cv2.findHomography(src_pts, dst_pts, cv2.RANSAC, 5.0)\n",
    "    print(\"H:\")\n",
    "    print(H)\n",
    "    plan_view = cv2.warpPerspective(src, H, (dst.shape[1], dst.shape[0]))\n",
    "    return plan_view\n",
    "\n",
    "\n",
    "def merge_views(src, dst, src_list, dst_list):\n",
    "    plan_view = get_plan_view(src, dst, src_list, dst_list)\n",
    "    for i in range(0, dst.shape[0]):\n",
    "        for j in range(0, dst.shape[1]):\n",
    "            if (plan_view.item(i, j, 0) == 0 and\n",
    "               plan_view.item(i, j, 1) == 0 and\n",
    "               plan_view.item(i, j, 2) == 0):\n",
    "                plan_view.itemset((i, j, 0), dst.item(i, j, 0))\n",
    "                plan_view.itemset((i, j, 1), dst.item(i, j, 1))\n",
    "                plan_view.itemset((i, j, 2), dst.item(i, j, 2))\n",
    "    return plan_view"
   ]
  },
  {
   "cell_type": "code",
   "execution_count": 77,
   "metadata": {},
   "outputs": [],
   "source": [
    "# Track funtion to track the points for the frame-by-frame homography\n",
    "def track_point(video_path, tracker):\n",
    "\n",
    "    centers = []\n",
    "    field_centers = []\n",
    "    video = cv2.VideoCapture(video_path)\n",
    "\n",
    "    # Exit if video not opened.\n",
    "    if not video.isOpened():\n",
    "        print (\"Could not open video\")\n",
    "        sys.exit()\n",
    "\n",
    "    # Read first frame.\n",
    "    ok, frame = video.read()\n",
    "    if not ok:\n",
    "        print ('Cannot read video file')\n",
    "        sys.exit()\n",
    "\n",
    "    # Select bounding box\n",
    "    bbox = cv2.selectROI(frame, False)\n",
    "\n",
    "    # Draw center point\n",
    "    center_point_x = int(bbox[0]+ 0.5*bbox[2])\n",
    "    center_point_y = int(bbox[1] + 0.5*bbox[3])\n",
    "    center = (center_point_x,center_point_y)\n",
    "    cv2.circle(frame, center, 2, (0,0,255), -1)\n",
    "    # Store center point\n",
    "    centers.append(center)\n",
    "\n",
    "    # Pause 1000 ms\n",
    "    key = cv2.waitKey(1000)\n",
    "    print(\"Wait for the animation of the tracking. Then press Enter to continue.\")\n",
    "\n",
    "    # Initialize tracker with first frame and bounding box\n",
    "    ok = tracker.init(frame, bbox)\n",
    "\n",
    "    while True:\n",
    "        # Read a new frame\n",
    "        ok, frame = video.read()\n",
    "        if not ok:\n",
    "            break\n",
    "            \n",
    "        # Start timer\n",
    "        timer = cv2.getTickCount()\n",
    "\n",
    "        # Update tracker\n",
    "        ok, bbox = tracker.update(frame)\n",
    "\n",
    "        # Calculate Frames per second (FPS)\n",
    "        fps = cv2.getTickFrequency() / (cv2.getTickCount() - timer)\n",
    "\n",
    "        # Draw bounding box\n",
    "        if ok:\n",
    "            # Tracking success\n",
    "            p1 = (int(bbox[0]), int(bbox[1]))\n",
    "            p2 = (int(bbox[0] + bbox[2]), int(bbox[1] + bbox[3]))\n",
    "            cv2.rectangle(frame, p1, p2, (255,0,0), 2, 1)\n",
    "            # Draw center point\n",
    "            center_point_x = int(bbox[0]+ 0.5*bbox[2])\n",
    "            center_point_y = int(bbox[1] + 0.5*bbox[3])\n",
    "            center = (center_point_x,center_point_y)\n",
    "            cv2.circle(frame, center, 2, (0,0,255), -1)\n",
    "            # Store center point\n",
    "            centers.append(center)\n",
    "        else :\n",
    "            # Tracking failure\n",
    "            cv2.putText(frame, \"Tracking failure detected\", (100,80), cv2.FONT_HERSHEY_SIMPLEX, 0.75,(0,0,255),2)\n",
    "\n",
    "        # Display tracker type on frame\n",
    "        cv2.putText(frame, tracker_type + \" Tracker\", (100,20), cv2.FONT_HERSHEY_SIMPLEX, 0.75, (50,170,50),2) \n",
    "        \n",
    "        # Display FPS on frame\n",
    "        cv2.putText(frame, \"FPS : \" + str(int(fps)), (100,50), cv2.FONT_HERSHEY_SIMPLEX, 0.75, (50,170,50), 2) \n",
    "\n",
    "        # Display result\n",
    "        cv2.imshow(\"video\", frame)\n",
    "\n",
    "        # Exit if ESC pressed\n",
    "        k = cv2.waitKey(200) & 0xff\n",
    "        if k == 27 or k == ord('q'): break\n",
    "\n",
    "    # Release the video capture object and close windows\n",
    "    video.release()\n",
    "    cv2.waitKey(0)\n",
    "    cv2.destroyAllWindows()\n",
    "    cv2.waitKey(1)\n",
    "\n",
    "    print(f'centers: {centers}')\n",
    "\n",
    "    # Open field\n",
    "    dst = cv2.imread(field_path, -1)\n",
    "    dst_copy = dst.copy()\n",
    "    cv2.namedWindow('dst')\n",
    "    cv2.moveWindow(\"dst\", 780, 80)\n",
    "    callback = partial(select_points_dst, dst_copy=dst_copy)\n",
    "    cv2.setMouseCallback('dst', callback)\n",
    "    \n",
    "    print(\"Single click to select the point in the field that best matches the tracked point. Press Enter to continue.\")\n",
    "    \n",
    "    while True:\n",
    "        cv2.imshow('dst',dst_copy)\n",
    "        k = cv2.waitKey(1) & 0xFF\n",
    "        if k == 13 and (dst_x != -1 and dst_y != -1):\n",
    "            cv2.circle(dst_copy, (dst_x, dst_y), 5, (0, 255, 0), -1)\n",
    "            field_center_list = [(dst_x, dst_y)]*len(centers)\n",
    "            field_centers.extend(field_center_list)\n",
    "            print(f'field centers: {field_centers}')\n",
    "            cv2.waitKey(200)  # Wait for 500ms\n",
    "            break\n",
    "        elif k == 27 or k == ord('q'):\n",
    "            break\n",
    "\n",
    "    print(\"Press Enter to continue\")\n",
    "    cv2.waitKey(0)\n",
    "    cv2.destroyAllWindows()\n",
    "    cv2.waitKey(1)\n",
    "\n",
    "    return centers, field_centers\n",
    "\n"
   ]
  },
  {
   "cell_type": "markdown",
   "metadata": {},
   "source": [
    "When you run the code below, a window will pop up with the first frame of the video. You should select the region of interest by drawing a rectangle from the top left to the bottom right corner. You can re-draw it multiple times. When happy with the result, press Enter and the tracking will start. Wait for the animation to finish and make sure the point has been tracked in every frame of the video. Then, press Enter to continue.  \n",
    "A new window will pop up with the field. Single click the field to select the point in the field that best matches the tracked point. Press Enter to save the point.  \n",
    "Press Enter to continue to the next point until n_points, where n>=4 for the homography.\n",
    "When finished, press any key on your keyboard to close the window and release the resources to be able to run the code again, or continue running the next blocks (you need to have the video window selected on that step)."
   ]
  },
  {
   "cell_type": "code",
   "execution_count": 83,
   "metadata": {},
   "outputs": [
    {
     "name": "stdout",
     "output_type": "stream",
     "text": [
      "Select a ROI and then press SPACE or ENTER button!\n",
      "Cancel the selection process by pressing c button!\n",
      "Wait for the animation of the tracking. Then press Enter to continue.\n",
      "centers: [(1169, 713), (1169, 713), (1169, 712), (1169, 711), (1169, 712), (1169, 713), (1169, 714), (1169, 713), (1169, 714), (1169, 713), (1169, 714), (1169, 713), (1169, 714), (1169, 713), (1169, 714), (1169, 713), (1169, 714), (1169, 713), (1169, 714), (1169, 713), (1169, 714), (1169, 713), (1169, 714), (1169, 713), (1169, 714), (1169, 713), (1169, 714), (1169, 713), (1169, 714), (1169, 713), (1169, 714), (1169, 713), (1169, 714), (1169, 713), (1169, 714), (1169, 713), (1169, 714), (1169, 713), (1169, 714), (1169, 713), (1169, 714), (1169, 713), (1169, 714), (1169, 713), (1169, 714), (1169, 713), (1169, 714), (1169, 713), (1169, 714), (1169, 713), (1169, 714), (1169, 713), (1169, 714), (1169, 715), (1169, 716), (1169, 715), (1169, 716), (1169, 717), (1169, 718), (1171, 719), (1173, 722), (1171, 723), (1175, 724), (1175, 725), (1177, 726), (1177, 727), (1179, 728), (1183, 729), (1185, 732), (1187, 733), (1191, 734), (1195, 735), (1199, 738), (1203, 739), (1207, 742), (1211, 743), (1215, 746), (1219, 747), (1225, 748), (1227, 749), (1233, 750), (1235, 749), (1239, 750), (1245, 749), (1245, 750), (1247, 749), (1249, 750), (1249, 751), (1249, 752), (1251, 751), (1253, 752), (1251, 751), (1253, 752), (1251, 751), (1253, 752), (1251, 753), (1253, 754), (1251, 755), (1253, 756), (1251, 755), (1253, 756), (1251, 757), (1253, 758), (1251, 757), (1253, 758), (1249, 757), (1247, 758), (1247, 757), (1243, 758), (1239, 757), (1235, 758), (1227, 757), (1219, 758), (1211, 757), (1201, 758), (1191, 757), (1181, 756), (1169, 755), (1159, 754), (1151, 753), (1143, 754), (1135, 753)]\n",
      "Single click to select the point in the field that best matches the tracked point. Press Enter to continue.\n",
      "field centers: [(1112, 749), (1112, 749), (1112, 749), (1112, 749), (1112, 749), (1112, 749), (1112, 749), (1112, 749), (1112, 749), (1112, 749), (1112, 749), (1112, 749), (1112, 749), (1112, 749), (1112, 749), (1112, 749), (1112, 749), (1112, 749), (1112, 749), (1112, 749), (1112, 749), (1112, 749), (1112, 749), (1112, 749), (1112, 749), (1112, 749), (1112, 749), (1112, 749), (1112, 749), (1112, 749), (1112, 749), (1112, 749), (1112, 749), (1112, 749), (1112, 749), (1112, 749), (1112, 749), (1112, 749), (1112, 749), (1112, 749), (1112, 749), (1112, 749), (1112, 749), (1112, 749), (1112, 749), (1112, 749), (1112, 749), (1112, 749), (1112, 749), (1112, 749), (1112, 749), (1112, 749), (1112, 749), (1112, 749), (1112, 749), (1112, 749), (1112, 749), (1112, 749), (1112, 749), (1112, 749), (1112, 749), (1112, 749), (1112, 749), (1112, 749), (1112, 749), (1112, 749), (1112, 749), (1112, 749), (1112, 749), (1112, 749), (1112, 749), (1112, 749), (1112, 749), (1112, 749), (1112, 749), (1112, 749), (1112, 749), (1112, 749), (1112, 749), (1112, 749), (1112, 749), (1112, 749), (1112, 749), (1112, 749), (1112, 749), (1112, 749), (1112, 749), (1112, 749), (1112, 749), (1112, 749), (1112, 749), (1112, 749), (1112, 749), (1112, 749), (1112, 749), (1112, 749), (1112, 749), (1112, 749), (1112, 749), (1112, 749), (1112, 749), (1112, 749), (1112, 749), (1112, 749), (1112, 749), (1112, 749), (1112, 749), (1112, 749), (1112, 749), (1112, 749), (1112, 749), (1112, 749), (1112, 749), (1112, 749), (1112, 749), (1112, 749), (1112, 749), (1112, 749), (1112, 749), (1112, 749), (1112, 749), (1112, 749)]\n",
      "Press Enter to continue\n",
      "Select a ROI and then press SPACE or ENTER button!\n",
      "Cancel the selection process by pressing c button!\n",
      "Wait for the animation of the tracking. Then press Enter to continue.\n",
      "centers: [(322, 254), (322, 254), (322, 254), (322, 254), (322, 254), (322, 254), (322, 254), (322, 254), (322, 254), (322, 254), (322, 254), (322, 254), (322, 254), (322, 254), (322, 254), (322, 254), (322, 254), (322, 254), (322, 254), (322, 254), (322, 254), (322, 254), (322, 254), (322, 254), (322, 254), (322, 254), (322, 254), (322, 254), (322, 254), (322, 254), (322, 254), (322, 254), (322, 254), (322, 254), (322, 254), (322, 254), (322, 254), (322, 254), (322, 254), (322, 254), (322, 254), (322, 254), (322, 254), (322, 254), (322, 254), (322, 254), (322, 254), (322, 254), (322, 254), (322, 254), (322, 254), (322, 254), (322, 254), (322, 256), (322, 256), (322, 256), (322, 256), (322, 258), (322, 258), (322, 260), (322, 262), (322, 262), (324, 264), (324, 264), (326, 266), (326, 266), (328, 268), (330, 268), (332, 270), (334, 272), (338, 274), (340, 276), (344, 278), (348, 278), (352, 280), (358, 282), (364, 282), (368, 284), (374, 284), (378, 286), (382, 286), (386, 286), (388, 286), (390, 286), (392, 286), (394, 286), (394, 286), (396, 286), (396, 286), (396, 286), (396, 286), (396, 286), (396, 286), (396, 286), (398, 288), (398, 288), (400, 290), (400, 290), (400, 290), (400, 290), (400, 290), (398, 290), (398, 290), (396, 290), (394, 290), (392, 290), (390, 290), (386, 290), (382, 290), (376, 290), (370, 290), (362, 290), (354, 290), (346, 290), (338, 290), (330, 292), (320, 292), (314, 292), (306, 294), (298, 294), (290, 296), (282, 296)]\n",
      "Single click to select the point in the field that best matches the tracked point. Press Enter to continue.\n",
      "field centers: [(964, 175), (964, 175), (964, 175), (964, 175), (964, 175), (964, 175), (964, 175), (964, 175), (964, 175), (964, 175), (964, 175), (964, 175), (964, 175), (964, 175), (964, 175), (964, 175), (964, 175), (964, 175), (964, 175), (964, 175), (964, 175), (964, 175), (964, 175), (964, 175), (964, 175), (964, 175), (964, 175), (964, 175), (964, 175), (964, 175), (964, 175), (964, 175), (964, 175), (964, 175), (964, 175), (964, 175), (964, 175), (964, 175), (964, 175), (964, 175), (964, 175), (964, 175), (964, 175), (964, 175), (964, 175), (964, 175), (964, 175), (964, 175), (964, 175), (964, 175), (964, 175), (964, 175), (964, 175), (964, 175), (964, 175), (964, 175), (964, 175), (964, 175), (964, 175), (964, 175), (964, 175), (964, 175), (964, 175), (964, 175), (964, 175), (964, 175), (964, 175), (964, 175), (964, 175), (964, 175), (964, 175), (964, 175), (964, 175), (964, 175), (964, 175), (964, 175), (964, 175), (964, 175), (964, 175), (964, 175), (964, 175), (964, 175), (964, 175), (964, 175), (964, 175), (964, 175), (964, 175), (964, 175), (964, 175), (964, 175), (964, 175), (964, 175), (964, 175), (964, 175), (964, 175), (964, 175), (964, 175), (964, 175), (964, 175), (964, 175), (964, 175), (964, 175), (964, 175), (964, 175), (964, 175), (964, 175), (964, 175), (964, 175), (964, 175), (964, 175), (964, 175), (964, 175), (964, 175), (964, 175), (964, 175), (964, 175), (964, 175), (964, 175), (964, 175), (964, 175), (964, 175), (964, 175)]\n",
      "Press Enter to continue\n",
      "Select a ROI and then press SPACE or ENTER button!\n",
      "Cancel the selection process by pressing c button!\n",
      "Wait for the animation of the tracking. Then press Enter to continue.\n",
      "centers: [(1612, 227), (1612, 227), (1613, 228), (1614, 227), (1613, 228), (1614, 227), (1613, 228), (1614, 227), (1613, 228), (1614, 227), (1613, 228), (1614, 227), (1613, 228), (1614, 227), (1613, 228), (1614, 227), (1613, 228), (1614, 227), (1613, 228), (1614, 227), (1613, 228), (1614, 227), (1613, 228), (1614, 227), (1613, 228), (1614, 227), (1613, 228), (1614, 227), (1613, 228), (1614, 227), (1613, 228), (1614, 227), (1613, 228), (1614, 227), (1613, 228), (1614, 227), (1613, 228), (1614, 227), (1613, 228), (1614, 227), (1613, 228), (1614, 227), (1613, 228), (1614, 227), (1613, 228), (1614, 227), (1613, 228), (1614, 227), (1613, 228), (1614, 227), (1613, 228), (1614, 227), (1613, 228), (1614, 229), (1613, 230), (1614, 229), (1613, 230), (1614, 231), (1615, 232), (1616, 233), (1615, 234), (1618, 235), (1617, 236), (1620, 237), (1621, 238), (1622, 239), (1623, 240), (1626, 241), (1629, 242), (1632, 243), (1635, 246), (1640, 247), (1643, 250), (1648, 251), (1651, 254), (1656, 255), (1661, 256), (1666, 257), (1669, 260), (1674, 259), (1679, 260), (1684, 259), (1685, 260), (1690, 259), (1691, 260), (1694, 259), (1695, 260), (1698, 259), (1697, 260), (1698, 261), (1699, 262), (1700, 261), (1699, 262), (1700, 261), (1699, 262), (1700, 263), (1699, 264), (1700, 265), (1699, 266), (1700, 265), (1699, 266), (1700, 265), (1701, 266), (1702, 265), (1701, 266), (1700, 265), (1697, 266), (1696, 265), (1691, 266), (1688, 265), (1681, 266), (1676, 265), (1667, 266), (1658, 265), (1647, 266), (1636, 267), (1625, 268), (1614, 267), (1601, 268), (1590, 269), (1579, 270), (1570, 269)]\n",
      "Single click to select the point in the field that best matches the tracked point. Press Enter to continue.\n",
      "field centers: [(1265, 180), (1265, 180), (1265, 180), (1265, 180), (1265, 180), (1265, 180), (1265, 180), (1265, 180), (1265, 180), (1265, 180), (1265, 180), (1265, 180), (1265, 180), (1265, 180), (1265, 180), (1265, 180), (1265, 180), (1265, 180), (1265, 180), (1265, 180), (1265, 180), (1265, 180), (1265, 180), (1265, 180), (1265, 180), (1265, 180), (1265, 180), (1265, 180), (1265, 180), (1265, 180), (1265, 180), (1265, 180), (1265, 180), (1265, 180), (1265, 180), (1265, 180), (1265, 180), (1265, 180), (1265, 180), (1265, 180), (1265, 180), (1265, 180), (1265, 180), (1265, 180), (1265, 180), (1265, 180), (1265, 180), (1265, 180), (1265, 180), (1265, 180), (1265, 180), (1265, 180), (1265, 180), (1265, 180), (1265, 180), (1265, 180), (1265, 180), (1265, 180), (1265, 180), (1265, 180), (1265, 180), (1265, 180), (1265, 180), (1265, 180), (1265, 180), (1265, 180), (1265, 180), (1265, 180), (1265, 180), (1265, 180), (1265, 180), (1265, 180), (1265, 180), (1265, 180), (1265, 180), (1265, 180), (1265, 180), (1265, 180), (1265, 180), (1265, 180), (1265, 180), (1265, 180), (1265, 180), (1265, 180), (1265, 180), (1265, 180), (1265, 180), (1265, 180), (1265, 180), (1265, 180), (1265, 180), (1265, 180), (1265, 180), (1265, 180), (1265, 180), (1265, 180), (1265, 180), (1265, 180), (1265, 180), (1265, 180), (1265, 180), (1265, 180), (1265, 180), (1265, 180), (1265, 180), (1265, 180), (1265, 180), (1265, 180), (1265, 180), (1265, 180), (1265, 180), (1265, 180), (1265, 180), (1265, 180), (1265, 180), (1265, 180), (1265, 180), (1265, 180), (1265, 180), (1265, 180), (1265, 180), (1265, 180)]\n",
      "Press Enter to continue\n",
      "Select a ROI and then press SPACE or ENTER button!\n",
      "Cancel the selection process by pressing c button!\n",
      "Wait for the animation of the tracking. Then press Enter to continue.\n",
      "centers: [(318, 724), (318, 724), (318, 725), (318, 724), (318, 725), (318, 726), (318, 725), (318, 726), (318, 725), (318, 726), (318, 725), (318, 726), (318, 725), (318, 726), (316, 725), (316, 726), (316, 725), (316, 726), (316, 725), (316, 726), (316, 725), (316, 726), (316, 725), (316, 726), (316, 725), (316, 726), (316, 725), (316, 726), (316, 725), (316, 726), (316, 725), (316, 726), (316, 725), (316, 726), (316, 725), (316, 726), (316, 725), (316, 726), (316, 725), (316, 726), (316, 725), (316, 726), (316, 725), (316, 726), (316, 725), (316, 726), (316, 725), (316, 726), (316, 725), (316, 726), (316, 725), (316, 726), (316, 725), (316, 726), (316, 727), (316, 728), (316, 727), (316, 730), (316, 729), (316, 732), (316, 733), (316, 734), (318, 735), (318, 736), (320, 737), (320, 738), (322, 739), (324, 742), (326, 743), (328, 744), (332, 745), (334, 748), (338, 749), (342, 752), (346, 753), (350, 754), (354, 755), (358, 756), (364, 757), (368, 758), (372, 759), (376, 760), (380, 759), (382, 760), (384, 759), (386, 760), (388, 759), (390, 760), (390, 759), (390, 760), (392, 759), (392, 760), (392, 759), (392, 760), (392, 761), (392, 762), (392, 763), (392, 764), (392, 763), (392, 764), (392, 765), (392, 766), (390, 765), (390, 766), (388, 767), (388, 768), (386, 767), (382, 768), (378, 767), (374, 768), (368, 767), (362, 768), (354, 767), (346, 768), (336, 767), (328, 768), (320, 767), (312, 768), (306, 767), (298, 768), (288, 767), (280, 768)]\n",
      "Single click to select the point in the field that best matches the tracked point. Press Enter to continue.\n",
      "field centers: [(959, 749), (959, 749), (959, 749), (959, 749), (959, 749), (959, 749), (959, 749), (959, 749), (959, 749), (959, 749), (959, 749), (959, 749), (959, 749), (959, 749), (959, 749), (959, 749), (959, 749), (959, 749), (959, 749), (959, 749), (959, 749), (959, 749), (959, 749), (959, 749), (959, 749), (959, 749), (959, 749), (959, 749), (959, 749), (959, 749), (959, 749), (959, 749), (959, 749), (959, 749), (959, 749), (959, 749), (959, 749), (959, 749), (959, 749), (959, 749), (959, 749), (959, 749), (959, 749), (959, 749), (959, 749), (959, 749), (959, 749), (959, 749), (959, 749), (959, 749), (959, 749), (959, 749), (959, 749), (959, 749), (959, 749), (959, 749), (959, 749), (959, 749), (959, 749), (959, 749), (959, 749), (959, 749), (959, 749), (959, 749), (959, 749), (959, 749), (959, 749), (959, 749), (959, 749), (959, 749), (959, 749), (959, 749), (959, 749), (959, 749), (959, 749), (959, 749), (959, 749), (959, 749), (959, 749), (959, 749), (959, 749), (959, 749), (959, 749), (959, 749), (959, 749), (959, 749), (959, 749), (959, 749), (959, 749), (959, 749), (959, 749), (959, 749), (959, 749), (959, 749), (959, 749), (959, 749), (959, 749), (959, 749), (959, 749), (959, 749), (959, 749), (959, 749), (959, 749), (959, 749), (959, 749), (959, 749), (959, 749), (959, 749), (959, 749), (959, 749), (959, 749), (959, 749), (959, 749), (959, 749), (959, 749), (959, 749), (959, 749), (959, 749), (959, 749), (959, 749), (959, 749), (959, 749)]\n",
      "Press Enter to continue\n"
     ]
    }
   ],
   "source": [
    "# Run the detection and homography\n",
    "n_points = 4\n",
    "centers_h = []\n",
    "field_centers_h = [] \n",
    "\n",
    "for points in range(n_points):\n",
    "\n",
    "    tracker = create_tracker(tracker_type)\n",
    "    centers, field_centers = track_point(video_path, tracker)\n",
    "    centers_h.append(centers)\n",
    "    field_centers_h.append(field_centers)\n"
   ]
  },
  {
   "cell_type": "code",
   "execution_count": 84,
   "metadata": {},
   "outputs": [
    {
     "name": "stdout",
     "output_type": "stream",
     "text": [
      "(122, 4, 2)\n",
      "(122, 4, 2)\n"
     ]
    }
   ],
   "source": [
    "# Change shapes to (frame, point, coordinates)\n",
    "centers_h_arr = np.array(centers_h)\n",
    "centers_h_arr = centers_h_arr.transpose(1,0,2)\n",
    "print(centers_h_arr.shape)\n",
    "field_centers_h_arr = np.array(field_centers_h)\n",
    "field_centers_h_arr = field_centers_h_arr.transpose(1,0,2)\n",
    "print(field_centers_h_arr.shape)"
   ]
  },
  {
   "cell_type": "markdown",
   "metadata": {},
   "source": [
    "The code below iterates the frames of the video and uses the previous caluclated homography matrices to perform the homography frame by frame."
   ]
  },
  {
   "cell_type": "code",
   "execution_count": 85,
   "metadata": {},
   "outputs": [
    {
     "name": "stdout",
     "output_type": "stream",
     "text": [
      "...Merging views\n",
      "Wait for the animation of the tracking. Then press Enter to finish.\n",
      "H:\n",
      "[[ 3.38345033e-01  7.71057442e-01  8.73150069e+02]\n",
      " [ 5.40277112e-02  2.10289748e+00 -3.37694181e+02]\n",
      " [ 4.63763570e-05  8.14969482e-04  1.00000000e+00]]\n",
      "H:\n",
      "[[ 3.38345033e-01  7.71057442e-01  8.73150069e+02]\n",
      " [ 5.40277112e-02  2.10289748e+00 -3.37694181e+02]\n",
      " [ 4.63763570e-05  8.14969482e-04  1.00000000e+00]]\n",
      "H:\n",
      "[[ 3.24640697e-01  7.52468266e-01  8.74588926e+02]\n",
      " [ 5.02637794e-02  2.07545678e+00 -3.30909278e+02]\n",
      " [ 3.69305077e-05  7.95515096e-04  1.00000000e+00]]\n",
      "H:\n",
      "[[ 3.27954547e-01  7.54855707e-01  8.74365457e+02]\n",
      " [ 5.23482217e-02  2.08233207e+00 -3.33063566e+02]\n",
      " [ 3.96117884e-05  7.98037845e-04  1.00000000e+00]]\n",
      "H:\n",
      "[[ 3.24640697e-01  7.52468266e-01  8.74588926e+02]\n",
      " [ 5.02637794e-02  2.07545678e+00 -3.30909278e+02]\n",
      " [ 3.69305077e-05  7.95515096e-04  1.00000000e+00]]\n",
      "H:\n",
      "[[ 3.27505832e-01  7.50893057e-01  8.74437969e+02]\n",
      " [ 5.21034447e-02  2.07154295e+00 -3.30440096e+02]\n",
      " [ 3.94410530e-05  7.93849712e-04  1.00000000e+00]]\n",
      "H:\n",
      "[[ 3.33807463e-01  7.62472965e-01  8.73651698e+02]\n",
      " [ 5.16741526e-02  2.08902027e+00 -3.33981532e+02]\n",
      " [ 4.33572917e-05  8.05973240e-04  1.00000000e+00]]\n",
      "H:\n",
      "[[ 3.27505832e-01  7.50893057e-01  8.74437969e+02]\n",
      " [ 5.21034447e-02  2.07154295e+00 -3.30440096e+02]\n",
      " [ 3.94410530e-05  7.93849712e-04  1.00000000e+00]]\n",
      "H:\n",
      "[[ 3.33807463e-01  7.62472965e-01  8.73651698e+02]\n",
      " [ 5.16741526e-02  2.08902027e+00 -3.33981532e+02]\n",
      " [ 4.33572917e-05  8.05973240e-04  1.00000000e+00]]\n",
      "H:\n",
      "[[ 3.27505832e-01  7.50893057e-01  8.74437969e+02]\n",
      " [ 5.21034447e-02  2.07154295e+00 -3.30440096e+02]\n",
      " [ 3.94410530e-05  7.93849712e-04  1.00000000e+00]]\n",
      "H:\n",
      "[[ 3.33807463e-01  7.62472965e-01  8.73651698e+02]\n",
      " [ 5.16741526e-02  2.08902027e+00 -3.33981532e+02]\n",
      " [ 4.33572917e-05  8.05973240e-04  1.00000000e+00]]\n",
      "H:\n",
      "[[ 3.27505832e-01  7.50893057e-01  8.74437969e+02]\n",
      " [ 5.21034447e-02  2.07154295e+00 -3.30440096e+02]\n",
      " [ 3.94410530e-05  7.93849712e-04  1.00000000e+00]]\n",
      "H:\n",
      "[[ 3.33807463e-01  7.62472965e-01  8.73651698e+02]\n",
      " [ 5.16741526e-02  2.08902027e+00 -3.33981532e+02]\n",
      " [ 4.33572917e-05  8.05973240e-04  1.00000000e+00]]\n",
      "H:\n",
      "[[ 3.27505832e-01  7.50893057e-01  8.74437969e+02]\n",
      " [ 5.21034447e-02  2.07154295e+00 -3.30440096e+02]\n",
      " [ 3.94410530e-05  7.93849712e-04  1.00000000e+00]]\n",
      "H:\n",
      "[[ 3.34822083e-01  7.73315890e-01  8.73133511e+02]\n",
      " [ 5.19277824e-02  2.09985603e+00 -3.36350278e+02]\n",
      " [ 4.36988376e-05  8.16006096e-04  1.00000000e+00]]\n",
      "H:\n",
      "[[ 3.28526324e-01  7.61629493e-01  8.73924168e+02]\n",
      " [ 5.23640460e-02  2.08228685e+00 -3.32791524e+02]\n",
      " [ 3.97924227e-05  8.03785284e-04  1.00000000e+00]]\n"
     ]
    },
    {
     "data": {
      "text/plain": [
       "-1"
      ]
     },
     "execution_count": 85,
     "metadata": {},
     "output_type": "execute_result"
    }
   ],
   "source": [
    "# Perform and display the homography from the saved points\n",
    "print('...Merging views')\n",
    "# Store merged frames\n",
    "merged_frames = []\n",
    "# Read video\n",
    "video = cv2.VideoCapture(video_path)\n",
    "# Get frame count and rate\n",
    "frame_count = int(video.get(cv2.CAP_PROP_FRAME_COUNT))\n",
    "frame_rate = int(video.get(cv2.CAP_PROP_FPS))\n",
    "# Read field image\n",
    "dst = cv2.imread(field_path, -1)\n",
    "print(\"Wait for the animation of the tracking. Then press Enter to finish.\")\n",
    "\n",
    "i=0\n",
    "while True:\n",
    "    # Exit if video not opened.\n",
    "    if not video.isOpened():\n",
    "        print (\"Could not open video\")\n",
    "        sys.exit()\n",
    "\n",
    "    # Read video frame.\n",
    "    ok, src = video.read()\n",
    "    if not ok:\n",
    "        break\n",
    "\n",
    "    # Get the points for the homography\n",
    "    src_list = centers_h_arr[i].tolist()\n",
    "    dst_list = field_centers_h_arr[i].tolist()\n",
    "    merge = merge_views(src, dst, src_list, dst_list) \n",
    "\n",
    "     #converting BGR to RGB \n",
    "    mergeRGB = cv2.cvtColor(merge, cv2.COLOR_BGR2RGB)  \n",
    "    # Display homography   \n",
    "    cv2.imshow(\"merge\", mergeRGB)\n",
    "    # Store frames\n",
    "    merged_frames.append(mergeRGB)\n",
    "\n",
    "    # Exit if the 'q' key is pressed\n",
    "    if cv2.waitKey(200) & 0xFF == ord('q'):\n",
    "        break\n",
    "\n",
    "    i+=1\n",
    "\n",
    "# Release the video capture object and close windows\n",
    "video.release()\n",
    "cv2.waitKey(0)\n",
    "cv2.destroyAllWindows()\n",
    "cv2.waitKey(1)"
   ]
  },
  {
   "cell_type": "code",
   "execution_count": 86,
   "metadata": {},
   "outputs": [
    {
     "name": "stdout",
     "output_type": "stream",
     "text": [
      "./homography/homography_football_dynamic.gif saved!\n"
     ]
    }
   ],
   "source": [
    "from tools import to_gif\n",
    "\n",
    "to_gif(merged_frames,int(1000/frame_rate), homography_name)"
   ]
  },
  {
   "cell_type": "markdown",
   "metadata": {},
   "source": []
  },
  {
   "cell_type": "markdown",
   "metadata": {},
   "source": [
    "### 3.2. Code assignment"
   ]
  },
  {
   "cell_type": "markdown",
   "metadata": {},
   "source": [
    "Choose another sport where you think the same technique could work, find a picture of the field and a short video of a play, and perform the homography. Save your results as './homography/homography_sport_dynamic.gif"
   ]
  },
  {
   "cell_type": "code",
   "execution_count": null,
   "metadata": {},
   "outputs": [],
   "source": []
  },
  {
   "cell_type": "markdown",
   "metadata": {},
   "source": [
    "### 3.3. Written assignment"
   ]
  },
  {
   "cell_type": "markdown",
   "metadata": {},
   "source": [
    "Think about how this technology could be applied in the sport that you chose on task 3.2. Write a paragraph with your reflections."
   ]
  },
  {
   "cell_type": "markdown",
   "metadata": {},
   "source": [
    "This technology finds potential applications in tennis, enabling spectators to rotate the image using their mouse from various angles to explore different perspectives of points. A parallel scenario is currently unfolding with the deployment of multiple cameras across the stadium. The homography could be seamlessly integrated with various video feeds, allowing viewers to cycle through them, akin to the bullet time effect in the movie \"The Matrix.\""
   ]
  },
  {
   "cell_type": "markdown",
   "metadata": {},
   "source": [
    "## Bonus Task 1\n"
   ]
  },
  {
   "cell_type": "markdown",
   "metadata": {},
   "source": [
    "\n",
    "(For all)\n",
    "\n",
    "Now you are already familiar with multiple tracking algorithms, choose one of the videos provided (hockey or american football) and perform the homography while tracking the position of one or more players. Plot the positions of the players that you track on the image of the field as dots of different colors. Save a gif displaying the dots moving on the field as './homography/bonus_task.gif'.  "
   ]
  },
  {
   "cell_type": "code",
   "execution_count": null,
   "metadata": {},
   "outputs": [],
   "source": []
  }
 ],
 "metadata": {
  "kernelspec": {
   "display_name": "cm2000-video-lab",
   "language": "python",
   "name": "python3"
  },
  "language_info": {
   "codemirror_mode": {
    "name": "ipython",
    "version": 3
   },
   "file_extension": ".py",
   "mimetype": "text/x-python",
   "name": "python",
   "nbconvert_exporter": "python",
   "pygments_lexer": "ipython3",
   "version": "3.11.5"
  },
  "orig_nbformat": 4
 },
 "nbformat": 4,
 "nbformat_minor": 2
}
